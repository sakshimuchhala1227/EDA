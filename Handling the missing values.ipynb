{
 "cells": [
  {
   "cell_type": "code",
   "execution_count": 2,
   "id": "1601f280",
   "metadata": {},
   "outputs": [],
   "source": [
    "import pandas as pd\n",
    "import numpy as np\n",
    "import matplotlib.pyplot as plt"
   ]
  },
  {
   "cell_type": "code",
   "execution_count": 30,
   "id": "a1bc16b3",
   "metadata": {},
   "outputs": [],
   "source": [
    "df=pd.read_csv(\"C:/Users/Dell/OneDrive/Desktop/EDA_projects/LiverPatientDisease.csv\")"
   ]
  },
  {
   "cell_type": "code",
   "execution_count": 31,
   "id": "40f8f555",
   "metadata": {},
   "outputs": [
    {
     "name": "stdout",
     "output_type": "stream",
     "text": [
      "<class 'pandas.core.frame.DataFrame'>\n",
      "RangeIndex: 583 entries, 0 to 582\n",
      "Data columns (total 11 columns):\n",
      " #   Column        Non-Null Count  Dtype  \n",
      "---  ------        --------------  -----  \n",
      " 0   Age           553 non-null    float64\n",
      " 1   Gender        560 non-null    float64\n",
      " 2   TB            583 non-null    float64\n",
      " 3   DB            583 non-null    float64\n",
      " 4   Alkphos       583 non-null    int64  \n",
      " 5   Sgpt          583 non-null    int64  \n",
      " 6   Sgot          583 non-null    int64  \n",
      " 7   TP            583 non-null    float64\n",
      " 8   ALB           583 non-null    float64\n",
      " 9   AG            579 non-null    float64\n",
      " 10  LiverPatient  583 non-null    int64  \n",
      "dtypes: float64(7), int64(4)\n",
      "memory usage: 50.2 KB\n"
     ]
    }
   ],
   "source": [
    "df.info()"
   ]
  },
  {
   "cell_type": "code",
   "execution_count": 32,
   "id": "ac40770e",
   "metadata": {},
   "outputs": [
    {
     "data": {
      "text/html": [
       "<div>\n",
       "<style scoped>\n",
       "    .dataframe tbody tr th:only-of-type {\n",
       "        vertical-align: middle;\n",
       "    }\n",
       "\n",
       "    .dataframe tbody tr th {\n",
       "        vertical-align: top;\n",
       "    }\n",
       "\n",
       "    .dataframe thead th {\n",
       "        text-align: right;\n",
       "    }\n",
       "</style>\n",
       "<table border=\"1\" class=\"dataframe\">\n",
       "  <thead>\n",
       "    <tr style=\"text-align: right;\">\n",
       "      <th></th>\n",
       "      <th>Age</th>\n",
       "      <th>Gender</th>\n",
       "      <th>TB</th>\n",
       "      <th>DB</th>\n",
       "      <th>Alkphos</th>\n",
       "      <th>Sgpt</th>\n",
       "      <th>Sgot</th>\n",
       "      <th>TP</th>\n",
       "      <th>ALB</th>\n",
       "      <th>AG</th>\n",
       "      <th>LiverPatient</th>\n",
       "    </tr>\n",
       "  </thead>\n",
       "  <tbody>\n",
       "    <tr>\n",
       "      <th>0</th>\n",
       "      <td>65.0</td>\n",
       "      <td>1.0</td>\n",
       "      <td>0.7</td>\n",
       "      <td>0.1</td>\n",
       "      <td>1</td>\n",
       "      <td>16</td>\n",
       "      <td>18</td>\n",
       "      <td>6.8</td>\n",
       "      <td>3.3</td>\n",
       "      <td>0.90</td>\n",
       "      <td>1</td>\n",
       "    </tr>\n",
       "    <tr>\n",
       "      <th>1</th>\n",
       "      <td>62.0</td>\n",
       "      <td>2.0</td>\n",
       "      <td>10.9</td>\n",
       "      <td>5.5</td>\n",
       "      <td>699</td>\n",
       "      <td>64</td>\n",
       "      <td>100</td>\n",
       "      <td>7.5</td>\n",
       "      <td>3.2</td>\n",
       "      <td>0.74</td>\n",
       "      <td>1</td>\n",
       "    </tr>\n",
       "    <tr>\n",
       "      <th>2</th>\n",
       "      <td>62.0</td>\n",
       "      <td>2.0</td>\n",
       "      <td>7.3</td>\n",
       "      <td>4.1</td>\n",
       "      <td>490</td>\n",
       "      <td>60</td>\n",
       "      <td>68</td>\n",
       "      <td>7.0</td>\n",
       "      <td>3.3</td>\n",
       "      <td>0.89</td>\n",
       "      <td>1</td>\n",
       "    </tr>\n",
       "    <tr>\n",
       "      <th>3</th>\n",
       "      <td>NaN</td>\n",
       "      <td>2.0</td>\n",
       "      <td>1.0</td>\n",
       "      <td>0.4</td>\n",
       "      <td>182</td>\n",
       "      <td>14</td>\n",
       "      <td>20</td>\n",
       "      <td>6.8</td>\n",
       "      <td>3.4</td>\n",
       "      <td>1.00</td>\n",
       "      <td>1</td>\n",
       "    </tr>\n",
       "    <tr>\n",
       "      <th>4</th>\n",
       "      <td>72.0</td>\n",
       "      <td>2.0</td>\n",
       "      <td>3.9</td>\n",
       "      <td>2.0</td>\n",
       "      <td>195</td>\n",
       "      <td>27</td>\n",
       "      <td>59</td>\n",
       "      <td>7.3</td>\n",
       "      <td>2.4</td>\n",
       "      <td>0.40</td>\n",
       "      <td>1</td>\n",
       "    </tr>\n",
       "  </tbody>\n",
       "</table>\n",
       "</div>"
      ],
      "text/plain": [
       "    Age  Gender    TB   DB  Alkphos  Sgpt  Sgot   TP  ALB    AG  LiverPatient\n",
       "0  65.0     1.0   0.7  0.1        1    16    18  6.8  3.3  0.90             1\n",
       "1  62.0     2.0  10.9  5.5      699    64   100  7.5  3.2  0.74             1\n",
       "2  62.0     2.0   7.3  4.1      490    60    68  7.0  3.3  0.89             1\n",
       "3   NaN     2.0   1.0  0.4      182    14    20  6.8  3.4  1.00             1\n",
       "4  72.0     2.0   3.9  2.0      195    27    59  7.3  2.4  0.40             1"
      ]
     },
     "execution_count": 32,
     "metadata": {},
     "output_type": "execute_result"
    }
   ],
   "source": [
    "df.head()"
   ]
  },
  {
   "cell_type": "code",
   "execution_count": 33,
   "id": "d4dd0c54",
   "metadata": {},
   "outputs": [
    {
     "name": "stdout",
     "output_type": "stream",
     "text": [
      "Age             30\n",
      "Gender          23\n",
      "TB               0\n",
      "DB               0\n",
      "Alkphos          0\n",
      "Sgpt             0\n",
      "Sgot             0\n",
      "TP               0\n",
      "ALB              0\n",
      "AG               4\n",
      "LiverPatient     0\n",
      "dtype: int64\n"
     ]
    }
   ],
   "source": [
    "print(df.isnull().sum())"
   ]
  },
  {
   "cell_type": "markdown",
   "id": "504b521c",
   "metadata": {},
   "source": [
    "# *HANDLING THE NULL OR MISSING VALUES*"
   ]
  },
  {
   "cell_type": "markdown",
   "id": "e1b04e77",
   "metadata": {},
   "source": [
    "### *1. Deleting the columns with missing data*"
   ]
  },
  {
   "cell_type": "code",
   "execution_count": 34,
   "id": "c188be37",
   "metadata": {},
   "outputs": [],
   "source": [
    "update_df=df.dropna(axis=1)"
   ]
  },
  {
   "cell_type": "code",
   "execution_count": 35,
   "id": "d3dfd6c1",
   "metadata": {},
   "outputs": [
    {
     "name": "stdout",
     "output_type": "stream",
     "text": [
      "<class 'pandas.core.frame.DataFrame'>\n",
      "RangeIndex: 583 entries, 0 to 582\n",
      "Data columns (total 8 columns):\n",
      " #   Column        Non-Null Count  Dtype  \n",
      "---  ------        --------------  -----  \n",
      " 0   TB            583 non-null    float64\n",
      " 1   DB            583 non-null    float64\n",
      " 2   Alkphos       583 non-null    int64  \n",
      " 3   Sgpt          583 non-null    int64  \n",
      " 4   Sgot          583 non-null    int64  \n",
      " 5   TP            583 non-null    float64\n",
      " 6   ALB           583 non-null    float64\n",
      " 7   LiverPatient  583 non-null    int64  \n",
      "dtypes: float64(4), int64(4)\n",
      "memory usage: 36.6 KB\n"
     ]
    }
   ],
   "source": [
    "update_df.info()"
   ]
  },
  {
   "cell_type": "markdown",
   "id": "74fd589b",
   "metadata": {},
   "source": [
    "### *Deleting the rows having the null values*"
   ]
  },
  {
   "cell_type": "code",
   "execution_count": 36,
   "id": "ed0a2163",
   "metadata": {},
   "outputs": [],
   "source": [
    "row_df=df.dropna(axis=0)"
   ]
  },
  {
   "cell_type": "code",
   "execution_count": 37,
   "id": "3b3de812",
   "metadata": {},
   "outputs": [
    {
     "name": "stdout",
     "output_type": "stream",
     "text": [
      "<class 'pandas.core.frame.DataFrame'>\n",
      "Int64Index: 526 entries, 0 to 582\n",
      "Data columns (total 11 columns):\n",
      " #   Column        Non-Null Count  Dtype  \n",
      "---  ------        --------------  -----  \n",
      " 0   Age           526 non-null    float64\n",
      " 1   Gender        526 non-null    float64\n",
      " 2   TB            526 non-null    float64\n",
      " 3   DB            526 non-null    float64\n",
      " 4   Alkphos       526 non-null    int64  \n",
      " 5   Sgpt          526 non-null    int64  \n",
      " 6   Sgot          526 non-null    int64  \n",
      " 7   TP            526 non-null    float64\n",
      " 8   ALB           526 non-null    float64\n",
      " 9   AG            526 non-null    float64\n",
      " 10  LiverPatient  526 non-null    int64  \n",
      "dtypes: float64(7), int64(4)\n",
      "memory usage: 49.3 KB\n",
      "<class 'pandas.core.frame.DataFrame'>\n",
      "RangeIndex: 583 entries, 0 to 582\n",
      "Data columns (total 11 columns):\n",
      " #   Column        Non-Null Count  Dtype  \n",
      "---  ------        --------------  -----  \n",
      " 0   Age           553 non-null    float64\n",
      " 1   Gender        560 non-null    float64\n",
      " 2   TB            583 non-null    float64\n",
      " 3   DB            583 non-null    float64\n",
      " 4   Alkphos       583 non-null    int64  \n",
      " 5   Sgpt          583 non-null    int64  \n",
      " 6   Sgot          583 non-null    int64  \n",
      " 7   TP            583 non-null    float64\n",
      " 8   ALB           583 non-null    float64\n",
      " 9   AG            579 non-null    float64\n",
      " 10  LiverPatient  583 non-null    int64  \n",
      "dtypes: float64(7), int64(4)\n",
      "memory usage: 50.2 KB\n"
     ]
    }
   ],
   "source": [
    "row_df.info()\n",
    "df.info()"
   ]
  },
  {
   "cell_type": "markdown",
   "id": "b24c8354",
   "metadata": {},
   "source": [
    "### *3.Filling the missing values - imputation*"
   ]
  },
  {
   "cell_type": "code",
   "execution_count": 38,
   "id": "73a7c54d",
   "metadata": {},
   "outputs": [
    {
     "name": "stdout",
     "output_type": "stream",
     "text": [
      "mean 44.385171790235084 median 45.0\n",
      "<class 'pandas.core.frame.DataFrame'>\n",
      "RangeIndex: 583 entries, 0 to 582\n",
      "Data columns (total 11 columns):\n",
      " #   Column        Non-Null Count  Dtype  \n",
      "---  ------        --------------  -----  \n",
      " 0   Age           553 non-null    float64\n",
      " 1   Gender        560 non-null    float64\n",
      " 2   TB            583 non-null    float64\n",
      " 3   DB            583 non-null    float64\n",
      " 4   Alkphos       583 non-null    int64  \n",
      " 5   Sgpt          583 non-null    int64  \n",
      " 6   Sgot          583 non-null    int64  \n",
      " 7   TP            583 non-null    float64\n",
      " 8   ALB           583 non-null    float64\n",
      " 9   AG            579 non-null    float64\n",
      " 10  LiverPatient  583 non-null    int64  \n",
      "dtypes: float64(7), int64(4)\n",
      "memory usage: 50.2 KB\n"
     ]
    }
   ],
   "source": [
    "x=df['Age'].mean()\n",
    "y=df[\"Age\"].median()\n",
    "print(\"mean\",x,\"median\",y)\n",
    "round(x)\n",
    "df.info()"
   ]
  },
  {
   "cell_type": "code",
   "execution_count": 39,
   "id": "8014f00d",
   "metadata": {},
   "outputs": [
    {
     "name": "stdout",
     "output_type": "stream",
     "text": [
      "<class 'pandas.core.frame.DataFrame'>\n",
      "RangeIndex: 583 entries, 0 to 582\n",
      "Data columns (total 11 columns):\n",
      " #   Column        Non-Null Count  Dtype  \n",
      "---  ------        --------------  -----  \n",
      " 0   Age           583 non-null    float64\n",
      " 1   Gender        560 non-null    float64\n",
      " 2   TB            583 non-null    float64\n",
      " 3   DB            583 non-null    float64\n",
      " 4   Alkphos       583 non-null    int64  \n",
      " 5   Sgpt          583 non-null    int64  \n",
      " 6   Sgot          583 non-null    int64  \n",
      " 7   TP            583 non-null    float64\n",
      " 8   ALB           583 non-null    float64\n",
      " 9   AG            579 non-null    float64\n",
      " 10  LiverPatient  583 non-null    int64  \n",
      "dtypes: float64(7), int64(4)\n",
      "memory usage: 50.2 KB\n"
     ]
    }
   ],
   "source": [
    "new_df=df\n",
    "new_df[\"Age\"]=new_df[\"Age\"].fillna(round(x))\n",
    "new_df.info()"
   ]
  },
  {
   "cell_type": "code",
   "execution_count": 40,
   "id": "b98ab360",
   "metadata": {},
   "outputs": [
    {
     "name": "stdout",
     "output_type": "stream",
     "text": [
      "<class 'pandas.core.frame.DataFrame'>\n",
      "RangeIndex: 583 entries, 0 to 582\n",
      "Data columns (total 11 columns):\n",
      " #   Column        Non-Null Count  Dtype  \n",
      "---  ------        --------------  -----  \n",
      " 0   Age           583 non-null    float64\n",
      " 1   Gender        560 non-null    float64\n",
      " 2   TB            583 non-null    float64\n",
      " 3   DB            583 non-null    float64\n",
      " 4   Alkphos       583 non-null    int64  \n",
      " 5   Sgpt          583 non-null    int64  \n",
      " 6   Sgot          583 non-null    int64  \n",
      " 7   TP            583 non-null    float64\n",
      " 8   ALB           583 non-null    float64\n",
      " 9   AG            579 non-null    float64\n",
      " 10  LiverPatient  583 non-null    int64  \n",
      "dtypes: float64(7), int64(4)\n",
      "memory usage: 50.2 KB\n"
     ]
    }
   ],
   "source": [
    "#filna : fills the null values\n",
    "#dropna : dfops the null values \n",
    "med_df=df\n",
    "med_df[\"Age\"]=med_df[\"Age\"].fillna(round(y))\n",
    "med_df.info()"
   ]
  },
  {
   "cell_type": "markdown",
   "id": "b3a48e60",
   "metadata": {},
   "source": [
    "### *4. Forward and backward filling - imputation*"
   ]
  },
  {
   "cell_type": "code",
   "execution_count": 3,
   "id": "447091b8",
   "metadata": {},
   "outputs": [
    {
     "name": "stdout",
     "output_type": "stream",
     "text": [
      "<class 'pandas.core.frame.DataFrame'>\n",
      "RangeIndex: 583 entries, 0 to 582\n",
      "Data columns (total 11 columns):\n",
      " #   Column        Non-Null Count  Dtype  \n",
      "---  ------        --------------  -----  \n",
      " 0   Age           553 non-null    float64\n",
      " 1   Gender        560 non-null    float64\n",
      " 2   TB            583 non-null    float64\n",
      " 3   DB            583 non-null    float64\n",
      " 4   Alkphos       583 non-null    int64  \n",
      " 5   Sgpt          583 non-null    int64  \n",
      " 6   Sgot          583 non-null    int64  \n",
      " 7   TP            583 non-null    float64\n",
      " 8   ALB           583 non-null    float64\n",
      " 9   AG            579 non-null    float64\n",
      " 10  LiverPatient  583 non-null    int64  \n",
      "dtypes: float64(7), int64(4)\n",
      "memory usage: 50.2 KB\n"
     ]
    },
    {
     "data": {
      "text/html": [
       "<div>\n",
       "<style scoped>\n",
       "    .dataframe tbody tr th:only-of-type {\n",
       "        vertical-align: middle;\n",
       "    }\n",
       "\n",
       "    .dataframe tbody tr th {\n",
       "        vertical-align: top;\n",
       "    }\n",
       "\n",
       "    .dataframe thead th {\n",
       "        text-align: right;\n",
       "    }\n",
       "</style>\n",
       "<table border=\"1\" class=\"dataframe\">\n",
       "  <thead>\n",
       "    <tr style=\"text-align: right;\">\n",
       "      <th></th>\n",
       "      <th>Age</th>\n",
       "      <th>Gender</th>\n",
       "      <th>TB</th>\n",
       "      <th>DB</th>\n",
       "      <th>Alkphos</th>\n",
       "      <th>Sgpt</th>\n",
       "      <th>Sgot</th>\n",
       "      <th>TP</th>\n",
       "      <th>ALB</th>\n",
       "      <th>AG</th>\n",
       "      <th>LiverPatient</th>\n",
       "    </tr>\n",
       "  </thead>\n",
       "  <tbody>\n",
       "    <tr>\n",
       "      <th>0</th>\n",
       "      <td>65.0</td>\n",
       "      <td>1.0</td>\n",
       "      <td>0.7</td>\n",
       "      <td>0.1</td>\n",
       "      <td>1</td>\n",
       "      <td>16</td>\n",
       "      <td>18</td>\n",
       "      <td>6.8</td>\n",
       "      <td>3.3</td>\n",
       "      <td>0.90</td>\n",
       "      <td>1</td>\n",
       "    </tr>\n",
       "    <tr>\n",
       "      <th>1</th>\n",
       "      <td>62.0</td>\n",
       "      <td>2.0</td>\n",
       "      <td>10.9</td>\n",
       "      <td>5.5</td>\n",
       "      <td>699</td>\n",
       "      <td>64</td>\n",
       "      <td>100</td>\n",
       "      <td>7.5</td>\n",
       "      <td>3.2</td>\n",
       "      <td>0.74</td>\n",
       "      <td>1</td>\n",
       "    </tr>\n",
       "    <tr>\n",
       "      <th>2</th>\n",
       "      <td>62.0</td>\n",
       "      <td>2.0</td>\n",
       "      <td>7.3</td>\n",
       "      <td>4.1</td>\n",
       "      <td>490</td>\n",
       "      <td>60</td>\n",
       "      <td>68</td>\n",
       "      <td>7.0</td>\n",
       "      <td>3.3</td>\n",
       "      <td>0.89</td>\n",
       "      <td>1</td>\n",
       "    </tr>\n",
       "    <tr>\n",
       "      <th>3</th>\n",
       "      <td>NaN</td>\n",
       "      <td>2.0</td>\n",
       "      <td>1.0</td>\n",
       "      <td>0.4</td>\n",
       "      <td>182</td>\n",
       "      <td>14</td>\n",
       "      <td>20</td>\n",
       "      <td>6.8</td>\n",
       "      <td>3.4</td>\n",
       "      <td>1.00</td>\n",
       "      <td>1</td>\n",
       "    </tr>\n",
       "    <tr>\n",
       "      <th>4</th>\n",
       "      <td>72.0</td>\n",
       "      <td>2.0</td>\n",
       "      <td>3.9</td>\n",
       "      <td>2.0</td>\n",
       "      <td>195</td>\n",
       "      <td>27</td>\n",
       "      <td>59</td>\n",
       "      <td>7.3</td>\n",
       "      <td>2.4</td>\n",
       "      <td>0.40</td>\n",
       "      <td>1</td>\n",
       "    </tr>\n",
       "  </tbody>\n",
       "</table>\n",
       "</div>"
      ],
      "text/plain": [
       "    Age  Gender    TB   DB  Alkphos  Sgpt  Sgot   TP  ALB    AG  LiverPatient\n",
       "0  65.0     1.0   0.7  0.1        1    16    18  6.8  3.3  0.90             1\n",
       "1  62.0     2.0  10.9  5.5      699    64   100  7.5  3.2  0.74             1\n",
       "2  62.0     2.0   7.3  4.1      490    60    68  7.0  3.3  0.89             1\n",
       "3   NaN     2.0   1.0  0.4      182    14    20  6.8  3.4  1.00             1\n",
       "4  72.0     2.0   3.9  2.0      195    27    59  7.3  2.4  0.40             1"
      ]
     },
     "execution_count": 3,
     "metadata": {},
     "output_type": "execute_result"
    }
   ],
   "source": [
    "data=pd.read_csv(\"C:/Users/Dell/OneDrive/Desktop/EDA_projects/LiverPatientDisease.csv\")\n",
    "data.info()\n",
    "data.head()"
   ]
  },
  {
   "cell_type": "code",
   "execution_count": 4,
   "id": "b98b201d",
   "metadata": {},
   "outputs": [
    {
     "name": "stdout",
     "output_type": "stream",
     "text": [
      "<class 'pandas.core.frame.DataFrame'>\n",
      "RangeIndex: 583 entries, 0 to 582\n",
      "Data columns (total 11 columns):\n",
      " #   Column        Non-Null Count  Dtype  \n",
      "---  ------        --------------  -----  \n",
      " 0   Age           583 non-null    float64\n",
      " 1   Gender        560 non-null    float64\n",
      " 2   TB            583 non-null    float64\n",
      " 3   DB            583 non-null    float64\n",
      " 4   Alkphos       583 non-null    int64  \n",
      " 5   Sgpt          583 non-null    int64  \n",
      " 6   Sgot          583 non-null    int64  \n",
      " 7   TP            583 non-null    float64\n",
      " 8   ALB           583 non-null    float64\n",
      " 9   AG            579 non-null    float64\n",
      " 10  LiverPatient  583 non-null    int64  \n",
      "dtypes: float64(7), int64(4)\n",
      "memory usage: 50.2 KB\n"
     ]
    },
    {
     "data": {
      "text/html": [
       "<div>\n",
       "<style scoped>\n",
       "    .dataframe tbody tr th:only-of-type {\n",
       "        vertical-align: middle;\n",
       "    }\n",
       "\n",
       "    .dataframe tbody tr th {\n",
       "        vertical-align: top;\n",
       "    }\n",
       "\n",
       "    .dataframe thead th {\n",
       "        text-align: right;\n",
       "    }\n",
       "</style>\n",
       "<table border=\"1\" class=\"dataframe\">\n",
       "  <thead>\n",
       "    <tr style=\"text-align: right;\">\n",
       "      <th></th>\n",
       "      <th>Age</th>\n",
       "      <th>Gender</th>\n",
       "      <th>TB</th>\n",
       "      <th>DB</th>\n",
       "      <th>Alkphos</th>\n",
       "      <th>Sgpt</th>\n",
       "      <th>Sgot</th>\n",
       "      <th>TP</th>\n",
       "      <th>ALB</th>\n",
       "      <th>AG</th>\n",
       "      <th>LiverPatient</th>\n",
       "    </tr>\n",
       "  </thead>\n",
       "  <tbody>\n",
       "    <tr>\n",
       "      <th>0</th>\n",
       "      <td>65.0</td>\n",
       "      <td>1.0</td>\n",
       "      <td>0.7</td>\n",
       "      <td>0.1</td>\n",
       "      <td>1</td>\n",
       "      <td>16</td>\n",
       "      <td>18</td>\n",
       "      <td>6.8</td>\n",
       "      <td>3.3</td>\n",
       "      <td>0.90</td>\n",
       "      <td>1</td>\n",
       "    </tr>\n",
       "    <tr>\n",
       "      <th>1</th>\n",
       "      <td>62.0</td>\n",
       "      <td>2.0</td>\n",
       "      <td>10.9</td>\n",
       "      <td>5.5</td>\n",
       "      <td>699</td>\n",
       "      <td>64</td>\n",
       "      <td>100</td>\n",
       "      <td>7.5</td>\n",
       "      <td>3.2</td>\n",
       "      <td>0.74</td>\n",
       "      <td>1</td>\n",
       "    </tr>\n",
       "    <tr>\n",
       "      <th>2</th>\n",
       "      <td>62.0</td>\n",
       "      <td>2.0</td>\n",
       "      <td>7.3</td>\n",
       "      <td>4.1</td>\n",
       "      <td>490</td>\n",
       "      <td>60</td>\n",
       "      <td>68</td>\n",
       "      <td>7.0</td>\n",
       "      <td>3.3</td>\n",
       "      <td>0.89</td>\n",
       "      <td>1</td>\n",
       "    </tr>\n",
       "    <tr>\n",
       "      <th>3</th>\n",
       "      <td>72.0</td>\n",
       "      <td>2.0</td>\n",
       "      <td>1.0</td>\n",
       "      <td>0.4</td>\n",
       "      <td>182</td>\n",
       "      <td>14</td>\n",
       "      <td>20</td>\n",
       "      <td>6.8</td>\n",
       "      <td>3.4</td>\n",
       "      <td>1.00</td>\n",
       "      <td>1</td>\n",
       "    </tr>\n",
       "    <tr>\n",
       "      <th>4</th>\n",
       "      <td>72.0</td>\n",
       "      <td>2.0</td>\n",
       "      <td>3.9</td>\n",
       "      <td>2.0</td>\n",
       "      <td>195</td>\n",
       "      <td>27</td>\n",
       "      <td>59</td>\n",
       "      <td>7.3</td>\n",
       "      <td>2.4</td>\n",
       "      <td>0.40</td>\n",
       "      <td>1</td>\n",
       "    </tr>\n",
       "  </tbody>\n",
       "</table>\n",
       "</div>"
      ],
      "text/plain": [
       "    Age  Gender    TB   DB  Alkphos  Sgpt  Sgot   TP  ALB    AG  LiverPatient\n",
       "0  65.0     1.0   0.7  0.1        1    16    18  6.8  3.3  0.90             1\n",
       "1  62.0     2.0  10.9  5.5      699    64   100  7.5  3.2  0.74             1\n",
       "2  62.0     2.0   7.3  4.1      490    60    68  7.0  3.3  0.89             1\n",
       "3  72.0     2.0   1.0  0.4      182    14    20  6.8  3.4  1.00             1\n",
       "4  72.0     2.0   3.9  2.0      195    27    59  7.3  2.4  0.40             1"
      ]
     },
     "execution_count": 4,
     "metadata": {},
     "output_type": "execute_result"
    }
   ],
   "source": [
    "data1=data\n",
    "data1[\"Age\"]=data1[\"Age\"].bfill()\n",
    "data1.info()\n",
    "data1.head()"
   ]
  },
  {
   "cell_type": "code",
   "execution_count": 5,
   "id": "4312673f",
   "metadata": {},
   "outputs": [
    {
     "name": "stdout",
     "output_type": "stream",
     "text": [
      "<class 'pandas.core.frame.DataFrame'>\n",
      "RangeIndex: 583 entries, 0 to 582\n",
      "Data columns (total 11 columns):\n",
      " #   Column        Non-Null Count  Dtype  \n",
      "---  ------        --------------  -----  \n",
      " 0   Age           553 non-null    float64\n",
      " 1   Gender        560 non-null    float64\n",
      " 2   TB            583 non-null    float64\n",
      " 3   DB            583 non-null    float64\n",
      " 4   Alkphos       583 non-null    int64  \n",
      " 5   Sgpt          583 non-null    int64  \n",
      " 6   Sgot          583 non-null    int64  \n",
      " 7   TP            583 non-null    float64\n",
      " 8   ALB           583 non-null    float64\n",
      " 9   AG            579 non-null    float64\n",
      " 10  LiverPatient  583 non-null    int64  \n",
      "dtypes: float64(7), int64(4)\n",
      "memory usage: 50.2 KB\n"
     ]
    },
    {
     "data": {
      "text/html": [
       "<div>\n",
       "<style scoped>\n",
       "    .dataframe tbody tr th:only-of-type {\n",
       "        vertical-align: middle;\n",
       "    }\n",
       "\n",
       "    .dataframe tbody tr th {\n",
       "        vertical-align: top;\n",
       "    }\n",
       "\n",
       "    .dataframe thead th {\n",
       "        text-align: right;\n",
       "    }\n",
       "</style>\n",
       "<table border=\"1\" class=\"dataframe\">\n",
       "  <thead>\n",
       "    <tr style=\"text-align: right;\">\n",
       "      <th></th>\n",
       "      <th>Age</th>\n",
       "      <th>Gender</th>\n",
       "      <th>TB</th>\n",
       "      <th>DB</th>\n",
       "      <th>Alkphos</th>\n",
       "      <th>Sgpt</th>\n",
       "      <th>Sgot</th>\n",
       "      <th>TP</th>\n",
       "      <th>ALB</th>\n",
       "      <th>AG</th>\n",
       "      <th>LiverPatient</th>\n",
       "    </tr>\n",
       "  </thead>\n",
       "  <tbody>\n",
       "    <tr>\n",
       "      <th>0</th>\n",
       "      <td>65.0</td>\n",
       "      <td>1.0</td>\n",
       "      <td>0.7</td>\n",
       "      <td>0.1</td>\n",
       "      <td>1</td>\n",
       "      <td>16</td>\n",
       "      <td>18</td>\n",
       "      <td>6.8</td>\n",
       "      <td>3.3</td>\n",
       "      <td>0.90</td>\n",
       "      <td>1</td>\n",
       "    </tr>\n",
       "    <tr>\n",
       "      <th>1</th>\n",
       "      <td>62.0</td>\n",
       "      <td>2.0</td>\n",
       "      <td>10.9</td>\n",
       "      <td>5.5</td>\n",
       "      <td>699</td>\n",
       "      <td>64</td>\n",
       "      <td>100</td>\n",
       "      <td>7.5</td>\n",
       "      <td>3.2</td>\n",
       "      <td>0.74</td>\n",
       "      <td>1</td>\n",
       "    </tr>\n",
       "    <tr>\n",
       "      <th>2</th>\n",
       "      <td>62.0</td>\n",
       "      <td>2.0</td>\n",
       "      <td>7.3</td>\n",
       "      <td>4.1</td>\n",
       "      <td>490</td>\n",
       "      <td>60</td>\n",
       "      <td>68</td>\n",
       "      <td>7.0</td>\n",
       "      <td>3.3</td>\n",
       "      <td>0.89</td>\n",
       "      <td>1</td>\n",
       "    </tr>\n",
       "    <tr>\n",
       "      <th>3</th>\n",
       "      <td>NaN</td>\n",
       "      <td>2.0</td>\n",
       "      <td>1.0</td>\n",
       "      <td>0.4</td>\n",
       "      <td>182</td>\n",
       "      <td>14</td>\n",
       "      <td>20</td>\n",
       "      <td>6.8</td>\n",
       "      <td>3.4</td>\n",
       "      <td>1.00</td>\n",
       "      <td>1</td>\n",
       "    </tr>\n",
       "    <tr>\n",
       "      <th>4</th>\n",
       "      <td>72.0</td>\n",
       "      <td>2.0</td>\n",
       "      <td>3.9</td>\n",
       "      <td>2.0</td>\n",
       "      <td>195</td>\n",
       "      <td>27</td>\n",
       "      <td>59</td>\n",
       "      <td>7.3</td>\n",
       "      <td>2.4</td>\n",
       "      <td>0.40</td>\n",
       "      <td>1</td>\n",
       "    </tr>\n",
       "  </tbody>\n",
       "</table>\n",
       "</div>"
      ],
      "text/plain": [
       "    Age  Gender    TB   DB  Alkphos  Sgpt  Sgot   TP  ALB    AG  LiverPatient\n",
       "0  65.0     1.0   0.7  0.1        1    16    18  6.8  3.3  0.90             1\n",
       "1  62.0     2.0  10.9  5.5      699    64   100  7.5  3.2  0.74             1\n",
       "2  62.0     2.0   7.3  4.1      490    60    68  7.0  3.3  0.89             1\n",
       "3   NaN     2.0   1.0  0.4      182    14    20  6.8  3.4  1.00             1\n",
       "4  72.0     2.0   3.9  2.0      195    27    59  7.3  2.4  0.40             1"
      ]
     },
     "execution_count": 5,
     "metadata": {},
     "output_type": "execute_result"
    }
   ],
   "source": [
    "data=pd.read_csv(\"C:/Users/Dell/OneDrive/Desktop/EDA_projects/LiverPatientDisease.csv\")\n",
    "data.info()\n",
    "data.head()"
   ]
  },
  {
   "cell_type": "code",
   "execution_count": 6,
   "id": "16fedcb3",
   "metadata": {},
   "outputs": [
    {
     "name": "stdout",
     "output_type": "stream",
     "text": [
      "<class 'pandas.core.frame.DataFrame'>\n",
      "RangeIndex: 583 entries, 0 to 582\n",
      "Data columns (total 11 columns):\n",
      " #   Column        Non-Null Count  Dtype  \n",
      "---  ------        --------------  -----  \n",
      " 0   Age           583 non-null    float64\n",
      " 1   Gender        560 non-null    float64\n",
      " 2   TB            583 non-null    float64\n",
      " 3   DB            583 non-null    float64\n",
      " 4   Alkphos       583 non-null    int64  \n",
      " 5   Sgpt          583 non-null    int64  \n",
      " 6   Sgot          583 non-null    int64  \n",
      " 7   TP            583 non-null    float64\n",
      " 8   ALB           583 non-null    float64\n",
      " 9   AG            579 non-null    float64\n",
      " 10  LiverPatient  583 non-null    int64  \n",
      "dtypes: float64(7), int64(4)\n",
      "memory usage: 50.2 KB\n"
     ]
    },
    {
     "data": {
      "text/html": [
       "<div>\n",
       "<style scoped>\n",
       "    .dataframe tbody tr th:only-of-type {\n",
       "        vertical-align: middle;\n",
       "    }\n",
       "\n",
       "    .dataframe tbody tr th {\n",
       "        vertical-align: top;\n",
       "    }\n",
       "\n",
       "    .dataframe thead th {\n",
       "        text-align: right;\n",
       "    }\n",
       "</style>\n",
       "<table border=\"1\" class=\"dataframe\">\n",
       "  <thead>\n",
       "    <tr style=\"text-align: right;\">\n",
       "      <th></th>\n",
       "      <th>Age</th>\n",
       "      <th>Gender</th>\n",
       "      <th>TB</th>\n",
       "      <th>DB</th>\n",
       "      <th>Alkphos</th>\n",
       "      <th>Sgpt</th>\n",
       "      <th>Sgot</th>\n",
       "      <th>TP</th>\n",
       "      <th>ALB</th>\n",
       "      <th>AG</th>\n",
       "      <th>LiverPatient</th>\n",
       "    </tr>\n",
       "  </thead>\n",
       "  <tbody>\n",
       "    <tr>\n",
       "      <th>0</th>\n",
       "      <td>65.0</td>\n",
       "      <td>1.0</td>\n",
       "      <td>0.7</td>\n",
       "      <td>0.1</td>\n",
       "      <td>1</td>\n",
       "      <td>16</td>\n",
       "      <td>18</td>\n",
       "      <td>6.8</td>\n",
       "      <td>3.3</td>\n",
       "      <td>0.90</td>\n",
       "      <td>1</td>\n",
       "    </tr>\n",
       "    <tr>\n",
       "      <th>1</th>\n",
       "      <td>62.0</td>\n",
       "      <td>2.0</td>\n",
       "      <td>10.9</td>\n",
       "      <td>5.5</td>\n",
       "      <td>699</td>\n",
       "      <td>64</td>\n",
       "      <td>100</td>\n",
       "      <td>7.5</td>\n",
       "      <td>3.2</td>\n",
       "      <td>0.74</td>\n",
       "      <td>1</td>\n",
       "    </tr>\n",
       "    <tr>\n",
       "      <th>2</th>\n",
       "      <td>62.0</td>\n",
       "      <td>2.0</td>\n",
       "      <td>7.3</td>\n",
       "      <td>4.1</td>\n",
       "      <td>490</td>\n",
       "      <td>60</td>\n",
       "      <td>68</td>\n",
       "      <td>7.0</td>\n",
       "      <td>3.3</td>\n",
       "      <td>0.89</td>\n",
       "      <td>1</td>\n",
       "    </tr>\n",
       "    <tr>\n",
       "      <th>3</th>\n",
       "      <td>62.0</td>\n",
       "      <td>2.0</td>\n",
       "      <td>1.0</td>\n",
       "      <td>0.4</td>\n",
       "      <td>182</td>\n",
       "      <td>14</td>\n",
       "      <td>20</td>\n",
       "      <td>6.8</td>\n",
       "      <td>3.4</td>\n",
       "      <td>1.00</td>\n",
       "      <td>1</td>\n",
       "    </tr>\n",
       "    <tr>\n",
       "      <th>4</th>\n",
       "      <td>72.0</td>\n",
       "      <td>2.0</td>\n",
       "      <td>3.9</td>\n",
       "      <td>2.0</td>\n",
       "      <td>195</td>\n",
       "      <td>27</td>\n",
       "      <td>59</td>\n",
       "      <td>7.3</td>\n",
       "      <td>2.4</td>\n",
       "      <td>0.40</td>\n",
       "      <td>1</td>\n",
       "    </tr>\n",
       "  </tbody>\n",
       "</table>\n",
       "</div>"
      ],
      "text/plain": [
       "    Age  Gender    TB   DB  Alkphos  Sgpt  Sgot   TP  ALB    AG  LiverPatient\n",
       "0  65.0     1.0   0.7  0.1        1    16    18  6.8  3.3  0.90             1\n",
       "1  62.0     2.0  10.9  5.5      699    64   100  7.5  3.2  0.74             1\n",
       "2  62.0     2.0   7.3  4.1      490    60    68  7.0  3.3  0.89             1\n",
       "3  62.0     2.0   1.0  0.4      182    14    20  6.8  3.4  1.00             1\n",
       "4  72.0     2.0   3.9  2.0      195    27    59  7.3  2.4  0.40             1"
      ]
     },
     "execution_count": 6,
     "metadata": {},
     "output_type": "execute_result"
    }
   ],
   "source": [
    "data2=data.copy()\n",
    "data2[\"Age\"]=data2[\"Age\"].ffill()\n",
    "data2.info()\n",
    "data2.head()"
   ]
  },
  {
   "cell_type": "markdown",
   "id": "60cd5a84",
   "metadata": {},
   "source": [
    "# Feature Scaling"
   ]
  },
  {
   "cell_type": "code",
   "execution_count": 61,
   "id": "2d34c671",
   "metadata": {},
   "outputs": [
    {
     "name": "stdout",
     "output_type": "stream",
     "text": [
      "Requirement already satisfied: scikit-learn in c:\\users\\dell\\appdata\\local\\packages\\pythonsoftwarefoundation.python.3.10_qbz5n2kfra8p0\\localcache\\local-packages\\python310\\site-packages (1.3.0)\n",
      "Collecting scikit-learn\n",
      "  Obtaining dependency information for scikit-learn from https://files.pythonhosted.org/packages/c9/1a/7313c0d70ec8bfcf83cdd49696679d54d9d1a062a60fba270e7b4fc457f2/scikit_learn-1.5.0-cp310-cp310-win_amd64.whl.metadata\n",
      "  Downloading scikit_learn-1.5.0-cp310-cp310-win_amd64.whl.metadata (11 kB)\n",
      "Requirement already satisfied: numpy>=1.19.5 in c:\\users\\dell\\appdata\\local\\packages\\pythonsoftwarefoundation.python.3.10_qbz5n2kfra8p0\\localcache\\local-packages\\python310\\site-packages (from scikit-learn) (1.24.2)\n",
      "Requirement already satisfied: scipy>=1.6.0 in c:\\users\\dell\\appdata\\local\\packages\\pythonsoftwarefoundation.python.3.10_qbz5n2kfra8p0\\localcache\\local-packages\\python310\\site-packages (from scikit-learn) (1.10.1)\n",
      "Requirement already satisfied: joblib>=1.2.0 in c:\\users\\dell\\appdata\\local\\packages\\pythonsoftwarefoundation.python.3.10_qbz5n2kfra8p0\\localcache\\local-packages\\python310\\site-packages (from scikit-learn) (1.3.2)\n",
      "Requirement already satisfied: threadpoolctl>=3.1.0 in c:\\users\\dell\\appdata\\local\\packages\\pythonsoftwarefoundation.python.3.10_qbz5n2kfra8p0\\localcache\\local-packages\\python310\\site-packages (from scikit-learn) (3.2.0)\n",
      "Downloading scikit_learn-1.5.0-cp310-cp310-win_amd64.whl (11.0 MB)\n",
      "   ---------------------------------------- 0.0/11.0 MB ? eta -:--:--\n",
      "   ---------------------------------------- 0.0/11.0 MB 1.3 MB/s eta 0:00:09\n",
      "   ---------------------------------------- 0.1/11.0 MB 1.3 MB/s eta 0:00:09\n",
      "    --------------------------------------- 0.2/11.0 MB 1.4 MB/s eta 0:00:08\n",
      "   - -------------------------------------- 0.3/11.0 MB 1.7 MB/s eta 0:00:07\n",
      "   - -------------------------------------- 0.3/11.0 MB 1.7 MB/s eta 0:00:07\n",
      "   - -------------------------------------- 0.4/11.0 MB 1.6 MB/s eta 0:00:07\n",
      "   - -------------------------------------- 0.5/11.0 MB 1.6 MB/s eta 0:00:07\n",
      "   -- ------------------------------------- 0.6/11.0 MB 1.7 MB/s eta 0:00:06\n",
      "   -- ------------------------------------- 0.7/11.0 MB 1.8 MB/s eta 0:00:06\n",
      "   -- ------------------------------------- 0.8/11.0 MB 1.7 MB/s eta 0:00:06\n",
      "   -- ------------------------------------- 0.8/11.0 MB 1.7 MB/s eta 0:00:07\n",
      "   --- ------------------------------------ 0.9/11.0 MB 1.7 MB/s eta 0:00:06\n",
      "   --- ------------------------------------ 1.0/11.0 MB 1.7 MB/s eta 0:00:06\n",
      "   ---- ----------------------------------- 1.1/11.0 MB 1.7 MB/s eta 0:00:06\n",
      "   ---- ----------------------------------- 1.2/11.0 MB 1.8 MB/s eta 0:00:06\n",
      "   ---- ----------------------------------- 1.3/11.0 MB 1.8 MB/s eta 0:00:06\n",
      "   ----- ---------------------------------- 1.4/11.0 MB 1.8 MB/s eta 0:00:06\n",
      "   ----- ---------------------------------- 1.4/11.0 MB 1.8 MB/s eta 0:00:06\n",
      "   ----- ---------------------------------- 1.6/11.0 MB 1.8 MB/s eta 0:00:06\n",
      "   ------ --------------------------------- 1.7/11.0 MB 1.8 MB/s eta 0:00:06\n",
      "   ------ --------------------------------- 1.7/11.0 MB 1.8 MB/s eta 0:00:06\n",
      "   ------ --------------------------------- 1.8/11.0 MB 1.8 MB/s eta 0:00:06\n",
      "   ------ --------------------------------- 1.8/11.0 MB 1.8 MB/s eta 0:00:06\n",
      "   ------ --------------------------------- 1.8/11.0 MB 1.8 MB/s eta 0:00:06\n",
      "   ------- -------------------------------- 2.0/11.0 MB 1.8 MB/s eta 0:00:06\n",
      "   ------- -------------------------------- 2.1/11.0 MB 1.7 MB/s eta 0:00:06\n",
      "   ------- -------------------------------- 2.1/11.0 MB 1.7 MB/s eta 0:00:06\n",
      "   -------- ------------------------------- 2.2/11.0 MB 1.7 MB/s eta 0:00:06\n",
      "   -------- ------------------------------- 2.4/11.0 MB 1.8 MB/s eta 0:00:05\n",
      "   -------- ------------------------------- 2.5/11.0 MB 1.8 MB/s eta 0:00:05\n",
      "   --------- ------------------------------ 2.5/11.0 MB 1.8 MB/s eta 0:00:05\n",
      "   --------- ------------------------------ 2.6/11.0 MB 1.8 MB/s eta 0:00:05\n",
      "   --------- ------------------------------ 2.7/11.0 MB 1.8 MB/s eta 0:00:05\n",
      "   ---------- ----------------------------- 2.8/11.0 MB 1.8 MB/s eta 0:00:05\n",
      "   ---------- ----------------------------- 2.9/11.0 MB 1.8 MB/s eta 0:00:05\n",
      "   ---------- ----------------------------- 3.0/11.0 MB 1.8 MB/s eta 0:00:05\n",
      "   ----------- ---------------------------- 3.1/11.0 MB 1.8 MB/s eta 0:00:05\n",
      "   ----------- ---------------------------- 3.2/11.0 MB 1.8 MB/s eta 0:00:05\n",
      "   ----------- ---------------------------- 3.2/11.0 MB 1.8 MB/s eta 0:00:05\n",
      "   ------------ --------------------------- 3.4/11.0 MB 1.8 MB/s eta 0:00:05\n",
      "   ------------ --------------------------- 3.4/11.0 MB 1.8 MB/s eta 0:00:05\n",
      "   ------------- -------------------------- 3.6/11.0 MB 1.8 MB/s eta 0:00:05\n",
      "   ------------- -------------------------- 3.6/11.0 MB 1.8 MB/s eta 0:00:05\n",
      "   ------------- -------------------------- 3.8/11.0 MB 1.9 MB/s eta 0:00:04\n",
      "   -------------- ------------------------- 3.9/11.0 MB 1.9 MB/s eta 0:00:04\n",
      "   -------------- ------------------------- 4.0/11.0 MB 1.9 MB/s eta 0:00:04\n",
      "   --------------- ------------------------ 4.1/11.0 MB 1.9 MB/s eta 0:00:04\n",
      "   --------------- ------------------------ 4.2/11.0 MB 1.9 MB/s eta 0:00:04\n",
      "   --------------- ------------------------ 4.3/11.0 MB 1.9 MB/s eta 0:00:04\n",
      "   ---------------- ----------------------- 4.5/11.0 MB 1.9 MB/s eta 0:00:04\n",
      "   ---------------- ----------------------- 4.5/11.0 MB 1.9 MB/s eta 0:00:04\n",
      "   ---------------- ----------------------- 4.6/11.0 MB 1.9 MB/s eta 0:00:04\n",
      "   ----------------- ---------------------- 4.7/11.0 MB 1.9 MB/s eta 0:00:04\n",
      "   ----------------- ---------------------- 4.8/11.0 MB 1.9 MB/s eta 0:00:04\n",
      "   ----------------- ---------------------- 4.9/11.0 MB 1.9 MB/s eta 0:00:04\n",
      "   ------------------ --------------------- 4.9/11.0 MB 1.9 MB/s eta 0:00:04\n",
      "   ------------------ --------------------- 5.0/11.0 MB 1.9 MB/s eta 0:00:04\n",
      "   ------------------- -------------------- 5.2/11.0 MB 1.9 MB/s eta 0:00:03\n",
      "   ------------------- -------------------- 5.3/11.0 MB 2.0 MB/s eta 0:00:03\n",
      "   ------------------- -------------------- 5.4/11.0 MB 2.0 MB/s eta 0:00:03\n",
      "   -------------------- ------------------- 5.5/11.0 MB 2.0 MB/s eta 0:00:03\n",
      "   -------------------- ------------------- 5.5/11.0 MB 1.9 MB/s eta 0:00:03\n",
      "   -------------------- ------------------- 5.7/11.0 MB 1.9 MB/s eta 0:00:03\n",
      "   -------------------- ------------------- 5.7/11.0 MB 1.9 MB/s eta 0:00:03\n",
      "   --------------------- ------------------ 5.8/11.0 MB 1.9 MB/s eta 0:00:03\n",
      "   --------------------- ------------------ 6.0/11.0 MB 2.0 MB/s eta 0:00:03\n",
      "   ---------------------- ----------------- 6.1/11.0 MB 2.0 MB/s eta 0:00:03\n",
      "   ---------------------- ----------------- 6.2/11.0 MB 2.0 MB/s eta 0:00:03\n",
      "   ---------------------- ----------------- 6.3/11.0 MB 2.0 MB/s eta 0:00:03\n",
      "   ----------------------- ---------------- 6.4/11.0 MB 2.0 MB/s eta 0:00:03\n",
      "   ----------------------- ---------------- 6.5/11.0 MB 2.0 MB/s eta 0:00:03\n",
      "   ----------------------- ---------------- 6.6/11.0 MB 2.0 MB/s eta 0:00:03\n",
      "   ------------------------ --------------- 6.7/11.0 MB 2.0 MB/s eta 0:00:03\n",
      "   ------------------------ --------------- 6.8/11.0 MB 2.0 MB/s eta 0:00:03\n",
      "   ------------------------ --------------- 6.8/11.0 MB 2.0 MB/s eta 0:00:03\n",
      "   ------------------------- -------------- 6.9/11.0 MB 2.0 MB/s eta 0:00:03\n",
      "   ------------------------- -------------- 7.0/11.0 MB 2.0 MB/s eta 0:00:02\n",
      "   ------------------------- -------------- 7.1/11.0 MB 2.0 MB/s eta 0:00:02\n",
      "   -------------------------- ------------- 7.2/11.0 MB 2.0 MB/s eta 0:00:02\n",
      "   -------------------------- ------------- 7.3/11.0 MB 2.0 MB/s eta 0:00:02\n",
      "   -------------------------- ------------- 7.4/11.0 MB 2.0 MB/s eta 0:00:02\n",
      "   --------------------------- ------------ 7.4/11.0 MB 2.0 MB/s eta 0:00:02\n",
      "   --------------------------- ------------ 7.5/11.0 MB 2.0 MB/s eta 0:00:02\n",
      "   --------------------------- ------------ 7.6/11.0 MB 2.0 MB/s eta 0:00:02\n",
      "   ---------------------------- ----------- 7.7/11.0 MB 2.0 MB/s eta 0:00:02\n",
      "   ---------------------------- ----------- 7.8/11.0 MB 2.0 MB/s eta 0:00:02\n",
      "   ---------------------------- ----------- 7.8/11.0 MB 2.0 MB/s eta 0:00:02\n",
      "   ---------------------------- ----------- 7.8/11.0 MB 2.0 MB/s eta 0:00:02\n",
      "   ---------------------------- ----------- 7.8/11.0 MB 2.0 MB/s eta 0:00:02\n",
      "   ---------------------------- ----------- 7.8/11.0 MB 2.0 MB/s eta 0:00:02\n",
      "   ---------------------------- ----------- 7.8/11.0 MB 2.0 MB/s eta 0:00:02\n",
      "   ---------------------------- ----------- 7.8/11.0 MB 2.0 MB/s eta 0:00:02\n",
      "   ----------------------------- ---------- 8.0/11.0 MB 1.9 MB/s eta 0:00:02\n",
      "   ----------------------------- ---------- 8.0/11.0 MB 1.8 MB/s eta 0:00:02\n",
      "   ----------------------------- ---------- 8.0/11.0 MB 1.8 MB/s eta 0:00:02\n",
      "   ----------------------------- ---------- 8.0/11.0 MB 1.8 MB/s eta 0:00:02\n",
      "   ----------------------------- ---------- 8.0/11.0 MB 1.8 MB/s eta 0:00:02\n",
      "   ----------------------------- ---------- 8.1/11.0 MB 1.8 MB/s eta 0:00:02\n",
      "   ----------------------------- ---------- 8.2/11.0 MB 1.8 MB/s eta 0:00:02\n",
      "   ------------------------------ --------- 8.3/11.0 MB 1.8 MB/s eta 0:00:02\n",
      "   ------------------------------ --------- 8.3/11.0 MB 1.8 MB/s eta 0:00:02\n",
      "   ------------------------------ --------- 8.4/11.0 MB 1.8 MB/s eta 0:00:02\n",
      "   ------------------------------ --------- 8.4/11.0 MB 1.8 MB/s eta 0:00:02\n",
      "   ------------------------------ --------- 8.5/11.0 MB 1.8 MB/s eta 0:00:02\n",
      "   ------------------------------- -------- 8.6/11.0 MB 1.8 MB/s eta 0:00:02\n",
      "   ------------------------------- -------- 8.7/11.0 MB 1.8 MB/s eta 0:00:02\n",
      "   ------------------------------- -------- 8.8/11.0 MB 1.8 MB/s eta 0:00:02\n",
      "   -------------------------------- ------- 8.9/11.0 MB 1.8 MB/s eta 0:00:02\n",
      "   -------------------------------- ------- 8.9/11.0 MB 1.8 MB/s eta 0:00:02\n",
      "   --------------------------------- ------ 9.1/11.0 MB 1.8 MB/s eta 0:00:02\n",
      "   --------------------------------- ------ 9.3/11.0 MB 1.8 MB/s eta 0:00:01\n",
      "   ---------------------------------- ----- 9.4/11.0 MB 1.8 MB/s eta 0:00:01\n",
      "   ---------------------------------- ----- 9.5/11.0 MB 1.8 MB/s eta 0:00:01\n",
      "   ---------------------------------- ----- 9.6/11.0 MB 1.8 MB/s eta 0:00:01\n",
      "   ----------------------------------- ---- 9.7/11.0 MB 1.8 MB/s eta 0:00:01\n",
      "   ----------------------------------- ---- 9.9/11.0 MB 1.8 MB/s eta 0:00:01\n",
      "   ------------------------------------ --- 10.0/11.0 MB 1.8 MB/s eta 0:00:01\n",
      "   ------------------------------------ --- 10.1/11.0 MB 1.9 MB/s eta 0:00:01\n",
      "   ------------------------------------- -- 10.2/11.0 MB 1.8 MB/s eta 0:00:01\n",
      "   ------------------------------------- -- 10.4/11.0 MB 1.9 MB/s eta 0:00:01\n",
      "   -------------------------------------- - 10.5/11.0 MB 1.9 MB/s eta 0:00:01\n",
      "   -------------------------------------- - 10.6/11.0 MB 1.9 MB/s eta 0:00:01\n",
      "   ---------------------------------------  10.7/11.0 MB 1.9 MB/s eta 0:00:01\n",
      "   ---------------------------------------  10.8/11.0 MB 1.9 MB/s eta 0:00:01\n",
      "   ---------------------------------------  11.0/11.0 MB 1.9 MB/s eta 0:00:01\n",
      "   ---------------------------------------  11.0/11.0 MB 1.9 MB/s eta 0:00:01\n",
      "   ---------------------------------------  11.0/11.0 MB 1.9 MB/s eta 0:00:01\n",
      "   ---------------------------------------- 11.0/11.0 MB 1.9 MB/s eta 0:00:00\n",
      "Installing collected packages: scikit-learn\n",
      "  Attempting uninstall: scikit-learn\n",
      "    Found existing installation: scikit-learn 1.3.0\n",
      "    Uninstalling scikit-learn-1.3.0:\n",
      "      Successfully uninstalled scikit-learn-1.3.0\n",
      "Successfully installed scikit-learn-1.5.0\n"
     ]
    },
    {
     "name": "stderr",
     "output_type": "stream",
     "text": [
      "\n",
      "[notice] A new release of pip is available: 23.2.1 -> 24.0\n",
      "[notice] To update, run: C:\\Users\\Dell\\AppData\\Local\\Microsoft\\WindowsApps\\PythonSoftwareFoundation.Python.3.10_qbz5n2kfra8p0\\python.exe -m pip install --upgrade pip\n"
     ]
    }
   ],
   "source": [
    "!pip install -U scikit-learn"
   ]
  },
  {
   "cell_type": "code",
   "execution_count": 4,
   "id": "deb9bef9",
   "metadata": {},
   "outputs": [],
   "source": [
    "import seaborn as sns"
   ]
  },
  {
   "cell_type": "code",
   "execution_count": 8,
   "id": "3af668f8",
   "metadata": {},
   "outputs": [
    {
     "name": "stdout",
     "output_type": "stream",
     "text": [
      "<class 'pandas.core.frame.DataFrame'>\n",
      "RangeIndex: 583 entries, 0 to 582\n",
      "Data columns (total 11 columns):\n",
      " #   Column        Non-Null Count  Dtype  \n",
      "---  ------        --------------  -----  \n",
      " 0   Age           553 non-null    float64\n",
      " 1   Gender        560 non-null    float64\n",
      " 2   TB            583 non-null    float64\n",
      " 3   DB            583 non-null    float64\n",
      " 4   Alkphos       583 non-null    int64  \n",
      " 5   Sgpt          583 non-null    int64  \n",
      " 6   Sgot          583 non-null    int64  \n",
      " 7   TP            583 non-null    float64\n",
      " 8   ALB           583 non-null    float64\n",
      " 9   AG            579 non-null    float64\n",
      " 10  LiverPatient  583 non-null    int64  \n",
      "dtypes: float64(7), int64(4)\n",
      "memory usage: 50.2 KB\n"
     ]
    }
   ],
   "source": [
    "data.info()"
   ]
  },
  {
   "cell_type": "code",
   "execution_count": 9,
   "id": "e4a260c5",
   "metadata": {},
   "outputs": [
    {
     "name": "stdout",
     "output_type": "stream",
     "text": [
      "Age             30\n",
      "Gender          23\n",
      "TB               0\n",
      "DB               0\n",
      "Alkphos          0\n",
      "Sgpt             0\n",
      "Sgot             0\n",
      "TP               0\n",
      "ALB              0\n",
      "AG               4\n",
      "LiverPatient     0\n",
      "dtype: int64\n"
     ]
    }
   ],
   "source": [
    "print(data.isnull().sum())"
   ]
  },
  {
   "cell_type": "code",
   "execution_count": 11,
   "id": "3752dbc2",
   "metadata": {},
   "outputs": [],
   "source": [
    "from sklearn.preprocessing import StandardScaler\n",
    "from sklearn.preprocessing import MinMaxScaler"
   ]
  },
  {
   "cell_type": "code",
   "execution_count": 12,
   "id": "e704d5f1",
   "metadata": {},
   "outputs": [
    {
     "data": {
      "text/html": [
       "<div>\n",
       "<style scoped>\n",
       "    .dataframe tbody tr th:only-of-type {\n",
       "        vertical-align: middle;\n",
       "    }\n",
       "\n",
       "    .dataframe tbody tr th {\n",
       "        vertical-align: top;\n",
       "    }\n",
       "\n",
       "    .dataframe thead th {\n",
       "        text-align: right;\n",
       "    }\n",
       "</style>\n",
       "<table border=\"1\" class=\"dataframe\">\n",
       "  <thead>\n",
       "    <tr style=\"text-align: right;\">\n",
       "      <th></th>\n",
       "      <th>Age</th>\n",
       "      <th>Gender</th>\n",
       "      <th>TB</th>\n",
       "      <th>DB</th>\n",
       "      <th>Alkphos</th>\n",
       "      <th>Sgpt</th>\n",
       "      <th>Sgot</th>\n",
       "      <th>TP</th>\n",
       "      <th>ALB</th>\n",
       "      <th>AG</th>\n",
       "      <th>LiverPatient</th>\n",
       "    </tr>\n",
       "  </thead>\n",
       "  <tbody>\n",
       "    <tr>\n",
       "      <th>0</th>\n",
       "      <td>65.0</td>\n",
       "      <td>1.0</td>\n",
       "      <td>0.7</td>\n",
       "      <td>0.1</td>\n",
       "      <td>1</td>\n",
       "      <td>16</td>\n",
       "      <td>18</td>\n",
       "      <td>6.8</td>\n",
       "      <td>3.3</td>\n",
       "      <td>0.90</td>\n",
       "      <td>1</td>\n",
       "    </tr>\n",
       "    <tr>\n",
       "      <th>1</th>\n",
       "      <td>62.0</td>\n",
       "      <td>2.0</td>\n",
       "      <td>10.9</td>\n",
       "      <td>5.5</td>\n",
       "      <td>699</td>\n",
       "      <td>64</td>\n",
       "      <td>100</td>\n",
       "      <td>7.5</td>\n",
       "      <td>3.2</td>\n",
       "      <td>0.74</td>\n",
       "      <td>1</td>\n",
       "    </tr>\n",
       "    <tr>\n",
       "      <th>2</th>\n",
       "      <td>62.0</td>\n",
       "      <td>2.0</td>\n",
       "      <td>7.3</td>\n",
       "      <td>4.1</td>\n",
       "      <td>490</td>\n",
       "      <td>60</td>\n",
       "      <td>68</td>\n",
       "      <td>7.0</td>\n",
       "      <td>3.3</td>\n",
       "      <td>0.89</td>\n",
       "      <td>1</td>\n",
       "    </tr>\n",
       "    <tr>\n",
       "      <th>3</th>\n",
       "      <td>NaN</td>\n",
       "      <td>2.0</td>\n",
       "      <td>1.0</td>\n",
       "      <td>0.4</td>\n",
       "      <td>182</td>\n",
       "      <td>14</td>\n",
       "      <td>20</td>\n",
       "      <td>6.8</td>\n",
       "      <td>3.4</td>\n",
       "      <td>1.00</td>\n",
       "      <td>1</td>\n",
       "    </tr>\n",
       "    <tr>\n",
       "      <th>4</th>\n",
       "      <td>72.0</td>\n",
       "      <td>2.0</td>\n",
       "      <td>3.9</td>\n",
       "      <td>2.0</td>\n",
       "      <td>195</td>\n",
       "      <td>27</td>\n",
       "      <td>59</td>\n",
       "      <td>7.3</td>\n",
       "      <td>2.4</td>\n",
       "      <td>0.40</td>\n",
       "      <td>1</td>\n",
       "    </tr>\n",
       "  </tbody>\n",
       "</table>\n",
       "</div>"
      ],
      "text/plain": [
       "    Age  Gender    TB   DB  Alkphos  Sgpt  Sgot   TP  ALB    AG  LiverPatient\n",
       "0  65.0     1.0   0.7  0.1        1    16    18  6.8  3.3  0.90             1\n",
       "1  62.0     2.0  10.9  5.5      699    64   100  7.5  3.2  0.74             1\n",
       "2  62.0     2.0   7.3  4.1      490    60    68  7.0  3.3  0.89             1\n",
       "3   NaN     2.0   1.0  0.4      182    14    20  6.8  3.4  1.00             1\n",
       "4  72.0     2.0   3.9  2.0      195    27    59  7.3  2.4  0.40             1"
      ]
     },
     "execution_count": 12,
     "metadata": {},
     "output_type": "execute_result"
    }
   ],
   "source": [
    "data.head()"
   ]
  },
  {
   "cell_type": "code",
   "execution_count": 13,
   "id": "b7a23582",
   "metadata": {},
   "outputs": [
    {
     "data": {
      "text/html": [
       "<div>\n",
       "<style scoped>\n",
       "    .dataframe tbody tr th:only-of-type {\n",
       "        vertical-align: middle;\n",
       "    }\n",
       "\n",
       "    .dataframe tbody tr th {\n",
       "        vertical-align: top;\n",
       "    }\n",
       "\n",
       "    .dataframe thead th {\n",
       "        text-align: right;\n",
       "    }\n",
       "</style>\n",
       "<table border=\"1\" class=\"dataframe\">\n",
       "  <thead>\n",
       "    <tr style=\"text-align: right;\">\n",
       "      <th></th>\n",
       "      <th>Age</th>\n",
       "      <th>Gender</th>\n",
       "      <th>TB</th>\n",
       "      <th>DB</th>\n",
       "      <th>Alkphos</th>\n",
       "      <th>Sgpt</th>\n",
       "      <th>Sgot</th>\n",
       "      <th>TP</th>\n",
       "      <th>ALB</th>\n",
       "      <th>AG</th>\n",
       "      <th>LiverPatient</th>\n",
       "    </tr>\n",
       "  </thead>\n",
       "  <tbody>\n",
       "    <tr>\n",
       "      <th>count</th>\n",
       "      <td>553.00</td>\n",
       "      <td>560.00</td>\n",
       "      <td>583.00</td>\n",
       "      <td>583.00</td>\n",
       "      <td>583.00</td>\n",
       "      <td>583.00</td>\n",
       "      <td>583.00</td>\n",
       "      <td>583.00</td>\n",
       "      <td>583.00</td>\n",
       "      <td>579.00</td>\n",
       "      <td>583.00</td>\n",
       "    </tr>\n",
       "    <tr>\n",
       "      <th>mean</th>\n",
       "      <td>44.39</td>\n",
       "      <td>1.76</td>\n",
       "      <td>3.30</td>\n",
       "      <td>1.49</td>\n",
       "      <td>290.26</td>\n",
       "      <td>80.71</td>\n",
       "      <td>109.91</td>\n",
       "      <td>6.48</td>\n",
       "      <td>3.14</td>\n",
       "      <td>0.95</td>\n",
       "      <td>0.71</td>\n",
       "    </tr>\n",
       "    <tr>\n",
       "      <th>std</th>\n",
       "      <td>16.14</td>\n",
       "      <td>0.43</td>\n",
       "      <td>6.21</td>\n",
       "      <td>2.81</td>\n",
       "      <td>243.20</td>\n",
       "      <td>182.62</td>\n",
       "      <td>288.92</td>\n",
       "      <td>1.09</td>\n",
       "      <td>0.80</td>\n",
       "      <td>0.32</td>\n",
       "      <td>0.45</td>\n",
       "    </tr>\n",
       "    <tr>\n",
       "      <th>min</th>\n",
       "      <td>4.00</td>\n",
       "      <td>1.00</td>\n",
       "      <td>0.40</td>\n",
       "      <td>0.10</td>\n",
       "      <td>1.00</td>\n",
       "      <td>10.00</td>\n",
       "      <td>10.00</td>\n",
       "      <td>2.70</td>\n",
       "      <td>0.90</td>\n",
       "      <td>0.30</td>\n",
       "      <td>0.00</td>\n",
       "    </tr>\n",
       "    <tr>\n",
       "      <th>25%</th>\n",
       "      <td>33.00</td>\n",
       "      <td>2.00</td>\n",
       "      <td>0.80</td>\n",
       "      <td>0.20</td>\n",
       "      <td>175.00</td>\n",
       "      <td>23.00</td>\n",
       "      <td>25.00</td>\n",
       "      <td>5.80</td>\n",
       "      <td>2.60</td>\n",
       "      <td>0.70</td>\n",
       "      <td>0.00</td>\n",
       "    </tr>\n",
       "    <tr>\n",
       "      <th>50%</th>\n",
       "      <td>45.00</td>\n",
       "      <td>2.00</td>\n",
       "      <td>1.00</td>\n",
       "      <td>0.30</td>\n",
       "      <td>208.00</td>\n",
       "      <td>35.00</td>\n",
       "      <td>42.00</td>\n",
       "      <td>6.60</td>\n",
       "      <td>3.10</td>\n",
       "      <td>0.93</td>\n",
       "      <td>1.00</td>\n",
       "    </tr>\n",
       "    <tr>\n",
       "      <th>75%</th>\n",
       "      <td>57.00</td>\n",
       "      <td>2.00</td>\n",
       "      <td>2.60</td>\n",
       "      <td>1.30</td>\n",
       "      <td>298.00</td>\n",
       "      <td>60.50</td>\n",
       "      <td>87.00</td>\n",
       "      <td>7.20</td>\n",
       "      <td>3.80</td>\n",
       "      <td>1.10</td>\n",
       "      <td>1.00</td>\n",
       "    </tr>\n",
       "    <tr>\n",
       "      <th>max</th>\n",
       "      <td>90.00</td>\n",
       "      <td>2.00</td>\n",
       "      <td>75.00</td>\n",
       "      <td>19.70</td>\n",
       "      <td>2110.00</td>\n",
       "      <td>2000.00</td>\n",
       "      <td>4929.00</td>\n",
       "      <td>9.60</td>\n",
       "      <td>5.50</td>\n",
       "      <td>2.80</td>\n",
       "      <td>1.00</td>\n",
       "    </tr>\n",
       "  </tbody>\n",
       "</table>\n",
       "</div>"
      ],
      "text/plain": [
       "          Age  Gender      TB      DB  Alkphos     Sgpt     Sgot      TP  \\\n",
       "count  553.00  560.00  583.00  583.00   583.00   583.00   583.00  583.00   \n",
       "mean    44.39    1.76    3.30    1.49   290.26    80.71   109.91    6.48   \n",
       "std     16.14    0.43    6.21    2.81   243.20   182.62   288.92    1.09   \n",
       "min      4.00    1.00    0.40    0.10     1.00    10.00    10.00    2.70   \n",
       "25%     33.00    2.00    0.80    0.20   175.00    23.00    25.00    5.80   \n",
       "50%     45.00    2.00    1.00    0.30   208.00    35.00    42.00    6.60   \n",
       "75%     57.00    2.00    2.60    1.30   298.00    60.50    87.00    7.20   \n",
       "max     90.00    2.00   75.00   19.70  2110.00  2000.00  4929.00    9.60   \n",
       "\n",
       "          ALB      AG  LiverPatient  \n",
       "count  583.00  579.00        583.00  \n",
       "mean     3.14    0.95          0.71  \n",
       "std      0.80    0.32          0.45  \n",
       "min      0.90    0.30          0.00  \n",
       "25%      2.60    0.70          0.00  \n",
       "50%      3.10    0.93          1.00  \n",
       "75%      3.80    1.10          1.00  \n",
       "max      5.50    2.80          1.00  "
      ]
     },
     "execution_count": 13,
     "metadata": {},
     "output_type": "execute_result"
    }
   ],
   "source": [
    "data.describe().round(2)"
   ]
  },
  {
   "cell_type": "code",
   "execution_count": 14,
   "id": "f2eb0a3f",
   "metadata": {},
   "outputs": [
    {
     "data": {
      "text/html": [
       "<div>\n",
       "<style scoped>\n",
       "    .dataframe tbody tr th:only-of-type {\n",
       "        vertical-align: middle;\n",
       "    }\n",
       "\n",
       "    .dataframe tbody tr th {\n",
       "        vertical-align: top;\n",
       "    }\n",
       "\n",
       "    .dataframe thead th {\n",
       "        text-align: right;\n",
       "    }\n",
       "</style>\n",
       "<table border=\"1\" class=\"dataframe\">\n",
       "  <thead>\n",
       "    <tr style=\"text-align: right;\">\n",
       "      <th></th>\n",
       "      <th>Age</th>\n",
       "      <th>TB</th>\n",
       "    </tr>\n",
       "  </thead>\n",
       "  <tbody>\n",
       "    <tr>\n",
       "      <th>0</th>\n",
       "      <td>65.0</td>\n",
       "      <td>0.7</td>\n",
       "    </tr>\n",
       "    <tr>\n",
       "      <th>1</th>\n",
       "      <td>62.0</td>\n",
       "      <td>10.9</td>\n",
       "    </tr>\n",
       "    <tr>\n",
       "      <th>2</th>\n",
       "      <td>62.0</td>\n",
       "      <td>7.3</td>\n",
       "    </tr>\n",
       "    <tr>\n",
       "      <th>3</th>\n",
       "      <td>NaN</td>\n",
       "      <td>1.0</td>\n",
       "    </tr>\n",
       "    <tr>\n",
       "      <th>4</th>\n",
       "      <td>72.0</td>\n",
       "      <td>3.9</td>\n",
       "    </tr>\n",
       "  </tbody>\n",
       "</table>\n",
       "</div>"
      ],
      "text/plain": [
       "    Age    TB\n",
       "0  65.0   0.7\n",
       "1  62.0  10.9\n",
       "2  62.0   7.3\n",
       "3   NaN   1.0\n",
       "4  72.0   3.9"
      ]
     },
     "execution_count": 14,
     "metadata": {},
     "output_type": "execute_result"
    }
   ],
   "source": [
    "new_df=pd.DataFrame(data,columns=[\"Age\",\"TB\"])\n",
    "new_df.head()"
   ]
  },
  {
   "cell_type": "code",
   "execution_count": 33,
   "id": "f8374f77",
   "metadata": {},
   "outputs": [
    {
     "name": "stdout",
     "output_type": "stream",
     "text": [
      "44\n"
     ]
    }
   ],
   "source": [
    "m=new_df[\"Age\"].mean()\n",
    "print(round(m))\n",
    "new_df[\"Age\"]=new_df[\"Age\"].fillna(round(m))"
   ]
  },
  {
   "cell_type": "code",
   "execution_count": 36,
   "id": "dac8a471",
   "metadata": {},
   "outputs": [
    {
     "name": "stdout",
     "output_type": "stream",
     "text": [
      "<class 'pandas.core.frame.DataFrame'>\n",
      "RangeIndex: 583 entries, 0 to 582\n",
      "Data columns (total 2 columns):\n",
      " #   Column  Non-Null Count  Dtype  \n",
      "---  ------  --------------  -----  \n",
      " 0   Age     583 non-null    float64\n",
      " 1   TB      583 non-null    float64\n",
      "dtypes: float64(2)\n",
      "memory usage: 9.2 KB\n"
     ]
    }
   ],
   "source": [
    "new_df.info()"
   ]
  },
  {
   "cell_type": "code",
   "execution_count": 37,
   "id": "8c5d0788",
   "metadata": {},
   "outputs": [
    {
     "name": "stdout",
     "output_type": "stream",
     "text": [
      "           Age    TB\n",
      "0    65.000000   0.7\n",
      "1    62.000000  10.9\n",
      "2    62.000000   7.3\n",
      "3    44.385172   1.0\n",
      "4    72.000000   3.9\n",
      "..         ...   ...\n",
      "578  60.000000   0.5\n",
      "579  40.000000   0.6\n",
      "580  52.000000   0.8\n",
      "581  31.000000   1.3\n",
      "582  38.000000   1.0\n",
      "\n",
      "[583 rows x 2 columns]\n"
     ]
    }
   ],
   "source": [
    "print(new_df)"
   ]
  },
  {
   "cell_type": "code",
   "execution_count": 38,
   "id": "9bb4c90c",
   "metadata": {},
   "outputs": [
    {
     "name": "stdout",
     "output_type": "stream",
     "text": [
      "[[0.70930233 0.00402145]\n",
      " [0.6744186  0.14075067]\n",
      " [0.6744186  0.0924933 ]\n",
      " ...\n",
      " [0.55813953 0.00536193]\n",
      " [0.31395349 0.01206434]\n",
      " [0.39534884 0.0080429 ]]\n"
     ]
    }
   ],
   "source": [
    "scaler=MinMaxScaler()\n",
    "normal_df=scaler.fit_transform(new_df)\n",
    "print(normal_df)"
   ]
  },
  {
   "cell_type": "code",
   "execution_count": 39,
   "id": "5206a5e8",
   "metadata": {},
   "outputs": [
    {
     "name": "stdout",
     "output_type": "stream",
     "text": [
      "[[ 1.31239225 -0.41887783]\n",
      " [ 1.12140464  1.22517135]\n",
      " [ 1.12140464  0.6449187 ]\n",
      " ...\n",
      " [ 0.48477928 -0.4027597 ]\n",
      " [-0.85213398 -0.32216906]\n",
      " [-0.40649623 -0.37052344]]\n"
     ]
    }
   ],
   "source": [
    "scaler=StandardScaler()\n",
    "standard_df=scaler.fit_transform(new_df)\n",
    "print(standard_df)"
   ]
  },
  {
   "cell_type": "markdown",
   "id": "931197e2",
   "metadata": {},
   "source": [
    "# Outliers detection "
   ]
  },
  {
   "cell_type": "code",
   "execution_count": 19,
   "id": "6c1d8672",
   "metadata": {},
   "outputs": [],
   "source": [
    "import matplotlib.pyplot as plt\n",
    "import statistics as st\n",
    "import pandas as pd \n",
    "import numpy as np"
   ]
  },
  {
   "cell_type": "code",
   "execution_count": 2,
   "id": "f56d138c",
   "metadata": {},
   "outputs": [],
   "source": [
    "data=pd.read_csv(\"F:/EDA/raw_sales.csv\")"
   ]
  },
  {
   "cell_type": "code",
   "execution_count": 6,
   "id": "7ba643a8",
   "metadata": {},
   "outputs": [
    {
     "data": {
      "text/plain": [
       "pandas.core.frame.DataFrame"
      ]
     },
     "execution_count": 6,
     "metadata": {},
     "output_type": "execute_result"
    }
   ],
   "source": [
    "type(data)"
   ]
  },
  {
   "cell_type": "code",
   "execution_count": 7,
   "id": "feb1508d",
   "metadata": {},
   "outputs": [
    {
     "data": {
      "text/html": [
       "<div>\n",
       "<style scoped>\n",
       "    .dataframe tbody tr th:only-of-type {\n",
       "        vertical-align: middle;\n",
       "    }\n",
       "\n",
       "    .dataframe tbody tr th {\n",
       "        vertical-align: top;\n",
       "    }\n",
       "\n",
       "    .dataframe thead th {\n",
       "        text-align: right;\n",
       "    }\n",
       "</style>\n",
       "<table border=\"1\" class=\"dataframe\">\n",
       "  <thead>\n",
       "    <tr style=\"text-align: right;\">\n",
       "      <th></th>\n",
       "      <th>datesold</th>\n",
       "      <th>postcode</th>\n",
       "      <th>price</th>\n",
       "      <th>propertyType</th>\n",
       "      <th>bedrooms</th>\n",
       "    </tr>\n",
       "  </thead>\n",
       "  <tbody>\n",
       "    <tr>\n",
       "      <th>0</th>\n",
       "      <td>2007-02-07 00:00:00</td>\n",
       "      <td>2607</td>\n",
       "      <td>525000</td>\n",
       "      <td>house</td>\n",
       "      <td>4</td>\n",
       "    </tr>\n",
       "    <tr>\n",
       "      <th>1</th>\n",
       "      <td>2007-02-27 00:00:00</td>\n",
       "      <td>2906</td>\n",
       "      <td>290000</td>\n",
       "      <td>house</td>\n",
       "      <td>3</td>\n",
       "    </tr>\n",
       "    <tr>\n",
       "      <th>2</th>\n",
       "      <td>2007-03-07 00:00:00</td>\n",
       "      <td>2905</td>\n",
       "      <td>328000</td>\n",
       "      <td>house</td>\n",
       "      <td>3</td>\n",
       "    </tr>\n",
       "    <tr>\n",
       "      <th>3</th>\n",
       "      <td>2007-03-09 00:00:00</td>\n",
       "      <td>2905</td>\n",
       "      <td>380000</td>\n",
       "      <td>house</td>\n",
       "      <td>4</td>\n",
       "    </tr>\n",
       "    <tr>\n",
       "      <th>4</th>\n",
       "      <td>2007-03-21 00:00:00</td>\n",
       "      <td>2906</td>\n",
       "      <td>310000</td>\n",
       "      <td>house</td>\n",
       "      <td>3</td>\n",
       "    </tr>\n",
       "  </tbody>\n",
       "</table>\n",
       "</div>"
      ],
      "text/plain": [
       "              datesold  postcode   price propertyType  bedrooms\n",
       "0  2007-02-07 00:00:00      2607  525000        house         4\n",
       "1  2007-02-27 00:00:00      2906  290000        house         3\n",
       "2  2007-03-07 00:00:00      2905  328000        house         3\n",
       "3  2007-03-09 00:00:00      2905  380000        house         4\n",
       "4  2007-03-21 00:00:00      2906  310000        house         3"
      ]
     },
     "execution_count": 7,
     "metadata": {},
     "output_type": "execute_result"
    }
   ],
   "source": [
    "data.head()"
   ]
  },
  {
   "cell_type": "code",
   "execution_count": 8,
   "id": "39419b87",
   "metadata": {},
   "outputs": [
    {
     "name": "stdout",
     "output_type": "stream",
     "text": [
      "<class 'pandas.core.frame.DataFrame'>\n",
      "RangeIndex: 29580 entries, 0 to 29579\n",
      "Data columns (total 5 columns):\n",
      " #   Column        Non-Null Count  Dtype \n",
      "---  ------        --------------  ----- \n",
      " 0   datesold      29580 non-null  object\n",
      " 1   postcode      29580 non-null  int64 \n",
      " 2   price         29580 non-null  int64 \n",
      " 3   propertyType  29580 non-null  object\n",
      " 4   bedrooms      29580 non-null  int64 \n",
      "dtypes: int64(3), object(2)\n",
      "memory usage: 1.1+ MB\n"
     ]
    }
   ],
   "source": [
    "data.info()"
   ]
  },
  {
   "cell_type": "code",
   "execution_count": 9,
   "id": "cc9614a3",
   "metadata": {},
   "outputs": [],
   "source": [
    "#functions to detect the outlier on one-dimensional datasets\n",
    "def find_anomalies(data):\n",
    "    anomalies=[]\n",
    "    #calculating the mean and standard deviation \n",
    "    random_data_std=st.stdev(data)\n",
    "    random_data_mean=st.mean(data)\n",
    "    #calculating the 3 standard deviation for setting the limits\n",
    "    anomaly_cut_off = random_data_std*3\n",
    "    \n",
    "    #lower and upper limit of normal distribution \n",
    "    lower_limit=random_data_mean - anomaly_cut_off\n",
    "    upper_limit=random_data_mean + anomaly_cut_off\n",
    "\n",
    "    #generating the outlier \n",
    "    for outlier in data:\n",
    "        if outlier< lower_limit or outlier> upper_limit:\n",
    "            anomalies.append(outlier)\n",
    "    return anomalies\n",
    "    "
   ]
  },
  {
   "cell_type": "code",
   "execution_count": 10,
   "id": "e7c40ace",
   "metadata": {},
   "outputs": [
    {
     "data": {
      "text/plain": [
       "0        525000\n",
       "1        290000\n",
       "2        328000\n",
       "3        380000\n",
       "4        310000\n",
       "          ...  \n",
       "29575    500000\n",
       "29576    560000\n",
       "29577    464950\n",
       "29578    589000\n",
       "29579    775000\n",
       "Name: price, Length: 29580, dtype: int64"
      ]
     },
     "execution_count": 10,
     "metadata": {},
     "output_type": "execute_result"
    }
   ],
   "source": [
    "pr=data.price\n",
    "pr"
   ]
  },
  {
   "cell_type": "code",
   "execution_count": 11,
   "id": "7702f8c1",
   "metadata": {},
   "outputs": [],
   "source": [
    "list1=find_anomalies(data[\"price\"])\n"
   ]
  },
  {
   "cell_type": "code",
   "execution_count": 12,
   "id": "2e85fbb6",
   "metadata": {},
   "outputs": [
    {
     "data": {
      "text/plain": [
       "461"
      ]
     },
     "execution_count": 12,
     "metadata": {},
     "output_type": "execute_result"
    }
   ],
   "source": [
    "len(list1)"
   ]
  },
  {
   "cell_type": "code",
   "execution_count": 13,
   "id": "47fa56ca",
   "metadata": {},
   "outputs": [
    {
     "data": {
      "text/plain": [
       "29580"
      ]
     },
     "execution_count": 13,
     "metadata": {},
     "output_type": "execute_result"
    }
   ],
   "source": [
    "len(data)"
   ]
  },
  {
   "cell_type": "code",
   "execution_count": 14,
   "id": "142a4bf8",
   "metadata": {},
   "outputs": [
    {
     "data": {
      "text/plain": [
       "1.5584854631507776"
      ]
     },
     "execution_count": 14,
     "metadata": {},
     "output_type": "execute_result"
    }
   ],
   "source": [
    "(461/29580)*100"
   ]
  },
  {
   "cell_type": "code",
   "execution_count": 15,
   "id": "4bea8182",
   "metadata": {},
   "outputs": [
    {
     "data": {
      "text/plain": [
       "4.312009366902366"
      ]
     },
     "execution_count": 15,
     "metadata": {},
     "output_type": "execute_result"
    }
   ],
   "source": [
    "data.price.skew()"
   ]
  },
  {
   "cell_type": "code",
   "execution_count": 16,
   "id": "d6e0a857",
   "metadata": {},
   "outputs": [],
   "source": [
    "import seaborn as sns"
   ]
  },
  {
   "cell_type": "code",
   "execution_count": 17,
   "id": "08e4d43a",
   "metadata": {},
   "outputs": [
    {
     "data": {
      "text/plain": [
       "<Axes: xlabel='price', ylabel='Density'>"
      ]
     },
     "execution_count": 17,
     "metadata": {},
     "output_type": "execute_result"
    },
    {
     "data": {
      "image/png": "[encoded data removed]",
      "text/plain": [
       "<Figure size 640x480 with 1 Axes>"
      ]
     },
     "metadata": {},
     "output_type": "display_data"
    }
   ],
   "source": [
    "sns.kdeplot(data.price)"
   ]
  },
  {
   "cell_type": "markdown",
   "id": "8dcce8ca",
   "metadata": {},
   "source": [
    "kde is kernel density estimator \n",
    "Exploratory Data Analysis (EDA): KDE is useful for visualizing data distributions and identifying patterns.\n",
    "Density Estimation: KDE is used in statistics and machine learning for estimating probability densities when the underlying distribution is unknown or complex.\n",
    "Kernel Density Estimate (KDE) provides a flexible and powerful tool for understanding the distribution of data without assuming a specific parametric form, making it particularly useful in data analysis and visualization tasks."
   ]
  },
  {
   "cell_type": "code",
   "execution_count": 20,
   "id": "6d6a805c",
   "metadata": {},
   "outputs": [
    {
     "data": {
      "text/plain": [
       "0        13.171154\n",
       "1        12.577636\n",
       "2        12.700769\n",
       "3        12.847927\n",
       "4        12.644328\n",
       "           ...    \n",
       "29575    13.122363\n",
       "29576    13.235692\n",
       "29577    13.049685\n",
       "29578    13.286181\n",
       "29579    13.560618\n",
       "Name: price_transformed, Length: 29580, dtype: float64"
      ]
     },
     "execution_count": 20,
     "metadata": {},
     "output_type": "execute_result"
    }
   ],
   "source": [
    "data[\"price_transformed\"]=np.log(data.price)\n",
    "data.price_transformed"
   ]
  },
  {
   "cell_type": "markdown",
   "id": "fad0e613",
   "metadata": {},
   "source": [
    "Transformations like logarithms are used when data exhibits skewness (where the distribution is not symmetric) or when relationships between variables are better understood in logarithmic terms (such as in financial data where growth rates are multiplicative rather than additive).\n",
    "When to Use Logarithmic Transformation:\n",
    "Skewed Data: When the data is skewed towards higher values, logarithmic transformation can make the distribution more symmetric.\n",
    "\n",
    "Multiplicative Relationships: When the relationship between variables is multiplicative rather than additive, such as in growth rates or financial data.\n",
    "\n",
    "Statistical Tests: Log-transformed data can sometimes meet the assumptions of statistical tests that require normality or linear relationships."
   ]
  },
  {
   "cell_type": "code",
   "execution_count": 21,
   "id": "b5c0fc6d",
   "metadata": {},
   "outputs": [
    {
     "data": {
      "text/plain": [
       "Index(['datesold', 'postcode', 'price', 'propertyType', 'bedrooms',\n",
       "       'price_transformed'],\n",
       "      dtype='object')"
      ]
     },
     "execution_count": 21,
     "metadata": {},
     "output_type": "execute_result"
    }
   ],
   "source": [
    "data.columns"
   ]
  },
  {
   "cell_type": "code",
   "execution_count": 22,
   "id": "891e0d1b",
   "metadata": {},
   "outputs": [
    {
     "data": {
      "text/plain": [
       "0.4731646269984763"
      ]
     },
     "execution_count": 22,
     "metadata": {},
     "output_type": "execute_result"
    }
   ],
   "source": [
    "data.price_transformed.skew()"
   ]
  },
  {
   "cell_type": "code",
   "execution_count": 23,
   "id": "4ee47b71",
   "metadata": {},
   "outputs": [
    {
     "data": {
      "text/plain": [
       "266"
      ]
     },
     "execution_count": 23,
     "metadata": {},
     "output_type": "execute_result"
    }
   ],
   "source": [
    "list2=find_anomalies(data.price_transformed)\n",
    "len(list2)"
   ]
  },
  {
   "cell_type": "code",
   "execution_count": 24,
   "id": "0ce3d998",
   "metadata": {},
   "outputs": [
    {
     "data": {
      "text/plain": [
       "<Axes: xlabel='price_transformed', ylabel='Density'>"
      ]
     },
     "execution_count": 24,
     "metadata": {},
     "output_type": "execute_result"
    },
    {
     "data": {
      "image/png": "[encoded data removed]",
      "text/plain": [
       "<Figure size 640x480 with 1 Axes>"
      ]
     },
     "metadata": {},
     "output_type": "display_data"
    }
   ],
   "source": [
    "sns.kdeplot(data.price_transformed)"
   ]
  },
  {
   "cell_type": "code",
   "execution_count": 25,
   "id": "2ad9b591",
   "metadata": {},
   "outputs": [],
   "source": [
    "data[\"price_transformed_double\"]=np.log(data.price_transformed)"
   ]
  },
  {
   "cell_type": "code",
   "execution_count": 26,
   "id": "b837b140",
   "metadata": {},
   "outputs": [
    {
     "data": {
      "text/plain": [
       "0.33092530655758573"
      ]
     },
     "execution_count": 26,
     "metadata": {},
     "output_type": "execute_result"
    }
   ],
   "source": [
    "data[\"price_transformed_double\"].skew()"
   ]
  },
  {
   "cell_type": "code",
   "execution_count": 27,
   "id": "b5d254be",
   "metadata": {},
   "outputs": [],
   "source": [
    "list3=find_anomalies(data.price_transformed_double)"
   ]
  },
  {
   "cell_type": "code",
   "execution_count": 28,
   "id": "b106853d",
   "metadata": {},
   "outputs": [
    {
     "data": {
      "text/plain": [
       "251"
      ]
     },
     "execution_count": 28,
     "metadata": {},
     "output_type": "execute_result"
    }
   ],
   "source": [
    "len(list3)"
   ]
  },
  {
   "cell_type": "code",
   "execution_count": 29,
   "id": "f09a54af",
   "metadata": {},
   "outputs": [
    {
     "data": {
      "text/plain": [
       "<Axes: xlabel='price_transformed_double', ylabel='Density'>"
      ]
     },
     "execution_count": 29,
     "metadata": {},
     "output_type": "execute_result"
    },
    {
     "data": {
      "image/png": "[encoded data removed]",
      "text/plain": [
       "<Figure size 640x480 with 1 Axes>"
      ]
     },
     "metadata": {},
     "output_type": "display_data"
    }
   ],
   "source": [
    "sns.kdeplot(data.price_transformed_double)"
   ]
  },
  {
   "cell_type": "markdown",
   "id": "0011ac4c",
   "metadata": {},
   "source": [
    "# Boxplot"
   ]
  },
  {
   "cell_type": "code",
   "execution_count": 30,
   "id": "cb04e3d1",
   "metadata": {},
   "outputs": [
    {
     "data": {
      "text/plain": [
       "<Axes: >"
      ]
     },
     "execution_count": 30,
     "metadata": {},
     "output_type": "execute_result"
    },
    {
     "data": {
      "image/png": "[encoded data removed]",
      "text/plain": [
       "<Figure size 640x480 with 1 Axes>"
      ]
     },
     "metadata": {},
     "output_type": "display_data"
    }
   ],
   "source": [
    "sns.boxplot(data=data)"
   ]
  },
  {
   "cell_type": "code",
   "execution_count": 31,
   "id": "5a688c18",
   "metadata": {},
   "outputs": [
    {
     "data": {
      "text/html": [
       "<div>\n",
       "<style scoped>\n",
       "    .dataframe tbody tr th:only-of-type {\n",
       "        vertical-align: middle;\n",
       "    }\n",
       "\n",
       "    .dataframe tbody tr th {\n",
       "        vertical-align: top;\n",
       "    }\n",
       "\n",
       "    .dataframe thead th {\n",
       "        text-align: right;\n",
       "    }\n",
       "</style>\n",
       "<table border=\"1\" class=\"dataframe\">\n",
       "  <thead>\n",
       "    <tr style=\"text-align: right;\">\n",
       "      <th></th>\n",
       "      <th>datesold</th>\n",
       "      <th>postcode</th>\n",
       "      <th>price</th>\n",
       "      <th>propertyType</th>\n",
       "      <th>bedrooms</th>\n",
       "      <th>price_transformed</th>\n",
       "      <th>price_transformed_double</th>\n",
       "    </tr>\n",
       "  </thead>\n",
       "  <tbody>\n",
       "    <tr>\n",
       "      <th>0</th>\n",
       "      <td>2007-02-07 00:00:00</td>\n",
       "      <td>2607</td>\n",
       "      <td>525000</td>\n",
       "      <td>house</td>\n",
       "      <td>4</td>\n",
       "      <td>13.171154</td>\n",
       "      <td>2.578029</td>\n",
       "    </tr>\n",
       "    <tr>\n",
       "      <th>1</th>\n",
       "      <td>2007-02-27 00:00:00</td>\n",
       "      <td>2906</td>\n",
       "      <td>290000</td>\n",
       "      <td>house</td>\n",
       "      <td>3</td>\n",
       "      <td>12.577636</td>\n",
       "      <td>2.531920</td>\n",
       "    </tr>\n",
       "    <tr>\n",
       "      <th>2</th>\n",
       "      <td>2007-03-07 00:00:00</td>\n",
       "      <td>2905</td>\n",
       "      <td>328000</td>\n",
       "      <td>house</td>\n",
       "      <td>3</td>\n",
       "      <td>12.700769</td>\n",
       "      <td>2.541663</td>\n",
       "    </tr>\n",
       "    <tr>\n",
       "      <th>3</th>\n",
       "      <td>2007-03-09 00:00:00</td>\n",
       "      <td>2905</td>\n",
       "      <td>380000</td>\n",
       "      <td>house</td>\n",
       "      <td>4</td>\n",
       "      <td>12.847927</td>\n",
       "      <td>2.553182</td>\n",
       "    </tr>\n",
       "    <tr>\n",
       "      <th>4</th>\n",
       "      <td>2007-03-21 00:00:00</td>\n",
       "      <td>2906</td>\n",
       "      <td>310000</td>\n",
       "      <td>house</td>\n",
       "      <td>3</td>\n",
       "      <td>12.644328</td>\n",
       "      <td>2.537209</td>\n",
       "    </tr>\n",
       "  </tbody>\n",
       "</table>\n",
       "</div>"
      ],
      "text/plain": [
       "              datesold  postcode   price propertyType  bedrooms  \\\n",
       "0  2007-02-07 00:00:00      2607  525000        house         4   \n",
       "1  2007-02-27 00:00:00      2906  290000        house         3   \n",
       "2  2007-03-07 00:00:00      2905  328000        house         3   \n",
       "3  2007-03-09 00:00:00      2905  380000        house         4   \n",
       "4  2007-03-21 00:00:00      2906  310000        house         3   \n",
       "\n",
       "   price_transformed  price_transformed_double  \n",
       "0          13.171154                  2.578029  \n",
       "1          12.577636                  2.531920  \n",
       "2          12.700769                  2.541663  \n",
       "3          12.847927                  2.553182  \n",
       "4          12.644328                  2.537209  "
      ]
     },
     "execution_count": 31,
     "metadata": {},
     "output_type": "execute_result"
    }
   ],
   "source": [
    "data.head()"
   ]
  },
  {
   "cell_type": "code",
   "execution_count": 33,
   "id": "8dff2a74",
   "metadata": {},
   "outputs": [
    {
     "data": {
      "text/plain": [
       "29580"
      ]
     },
     "execution_count": 33,
     "metadata": {},
     "output_type": "execute_result"
    }
   ],
   "source": [
    "len(data)"
   ]
  },
  {
   "cell_type": "code",
   "execution_count": null,
   "id": "f2e5dc29",
   "metadata": {},
   "outputs": [],
   "source": []
  },
  {
   "cell_type": "code",
   "execution_count": null,
   "id": "d7bacea7",
   "metadata": {},
   "outputs": [],
   "source": []
  }
 ],
 "metadata": {
  "kernelspec": {
   "display_name": "Python 3 (ipykernel)",
   "language": "python",
   "name": "python3"
  },
  "language_info": {
   "codemirror_mode": {
    "name": "ipython",
    "version": 3
   },
   "file_extension": ".py",
   "mimetype": "text/x-python",
   "name": "python",
   "nbconvert_exporter": "python",
   "pygments_lexer": "ipython3",
   "version": "3.10.11"
  }
 },
 "nbformat": 4,
 "nbformat_minor": 5
}
